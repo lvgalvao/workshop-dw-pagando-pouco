{
 "cells": [
  {
   "cell_type": "code",
   "execution_count": 3,
   "metadata": {},
   "outputs": [
    {
     "name": "stdout",
     "output_type": "stream",
     "text": [
      "(384383, '8f411a08-d06b-453e-bd0e-b737419a947f', datetime.datetime(2023, 12, 13, 17, 59, 54), '4027943461015', 73.87, 1, datetime.datetime(2023, 12, 14, 16, 47, 53, 945776), 'salesretail1')\n",
      "(384384, '8f411a08-d06b-453e-bd0e-b737419a947f', datetime.datetime(2023, 12, 13, 17, 59, 54), '4027943461015', 73.87, 1, datetime.datetime(2023, 12, 14, 16, 47, 53, 945776), 'salesretail1')\n",
      "(384385, '8f411a08-d06b-453e-bd0e-b737419a947f', datetime.datetime(2023, 12, 13, 17, 59, 54), '4027943461015', 73.87, 1, datetime.datetime(2023, 12, 14, 16, 47, 53, 945776), 'salesretail1')\n",
      "(384386, '8f411a08-d06b-453e-bd0e-b737419a947f', datetime.datetime(2023, 12, 13, 17, 59, 54), '4027943461015', 73.87, 1, datetime.datetime(2023, 12, 14, 16, 47, 53, 945776), 'salesretail1')\n",
      "(384387, '8f411a08-d06b-453e-bd0e-b737419a947f', datetime.datetime(2023, 12, 13, 17, 59, 54), '4027943461015', 73.87, 1, datetime.datetime(2023, 12, 14, 16, 47, 53, 945776), 'salesretail1')\n"
     ]
    }
   ],
   "source": [
    "import duckdb as db\n",
    "from deltalake import DeltaTable\n",
    "from dotenv import load_dotenv\n",
    "import os\n",
    "\n",
    "# Carrega as variáveis de ambiente\n",
    "load_dotenv()\n",
    "\n",
    "# Configurações do S3\n",
    "delta_path = os.getenv(\"DELTA_LAKE_S3_PATH\")\n",
    "key = os.getenv(\"AWS_ACCESS_KEY_ID\")\n",
    "secret = os.getenv(\"AWS_SECRET_ACCESS_KEY\")\n",
    "region = os.getenv(\"AWS_REGION\")\n",
    "\n",
    "# Função para ler a tabela Delta Lake do S3\n",
    "def read_remote_delta_lake(path: str, key, secret):\n",
    "    storage_options = {\n",
    "        \"AWS_ACCESS_KEY_ID\": key,\n",
    "        \"AWS_SECRET_ACCESS_KEY\": secret,\n",
    "        \"AWS_REGION\": region\n",
    "    }\n",
    "    dt = DeltaTable(path, storage_options=storage_options)\n",
    "    return dt.to_pyarrow_table()\n",
    "\n",
    "# Carregar a tabela Delta Lake do S3\n",
    "dt = read_remote_delta_lake(delta_path, key, secret)\n",
    "\n",
    "# Conectar ao DuckDB\n",
    "con = db.connect()\n",
    "con.register(\"dt\", dt)\n",
    "\n",
    "# Função para executar consultas SQL e imprimir os resultados com nomes de colunas\n",
    "def execute_query(query):\n",
    "    result = con.execute(query)\n",
    "    \n",
    "    # Obter nomes de colunas\n",
    "    column_names = [desc[0] for desc in result.description]\n",
    "    \n",
    "    # Imprimir nomes de colunas\n",
    "    print(', '.join(column_names))\n",
    "    \n",
    "    # Imprimir resultados\n",
    "    for row in result.iter():\n",
    "        print(', '.join(map(str, row)))\n",
    "\n",
    "# Exemplo de uso:\n",
    "execute_query(\"SELECT * FROM dt LIMIT 5;\")\n"
   ]
  }
 ],
 "metadata": {
  "kernelspec": {
   "display_name": "Python 3 (ipykernel)",
   "language": "python",
   "name": "python3"
  },
  "language_info": {
   "codemirror_mode": {
    "name": "ipython",
    "version": 3
   },
   "file_extension": ".py",
   "mimetype": "text/x-python",
   "name": "python",
   "nbconvert_exporter": "python",
   "pygments_lexer": "ipython3",
   "version": "3.11.5"
  }
 },
 "nbformat": 4,
 "nbformat_minor": 4
}
