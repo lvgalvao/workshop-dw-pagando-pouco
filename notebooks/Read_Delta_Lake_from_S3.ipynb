{
 "cells": [
  {
   "cell_type": "code",
   "execution_count": 12,
   "metadata": {},
   "outputs": [
    {
     "name": "stdout",
     "output_type": "stream",
     "text": [
      "INV-20945900021, 2019-07-30, 2623, Hy-Vee Food Store #4 / Sioux City, 2827 Hamilton Blvd, Sioux City, 51104, POINT (-96.417783 42.519886), 97, WOODBURY, 1031200, American Flavored Vodka, 380, Phillips Beverage, 41681, UV Red Cherry, 6, 1750, 10.99, 16.49, 6, 98.94, 10.5, 2.77\n",
      "INV-20315700022, 2019-07-01, 2512, Hy-Vee Wine and Spirits / Iowa City, 1720 Waterfront Dr, Iowa City, 52240, POINT (-91.53046300000001 41.642764), 52, JOHNSON, 1062500, Flavored Rum, 035, BACARDI USA INC, 43050, Bacardi Dragon Berry, 12, 1000, 9.5, 14.25, 12, 171.0, 12.0, 3.17\n",
      "INV-20430200053, 2019-07-05, 4361, Quik Trip #538 / NW 2nd / DSM, 4575 NW 2nd, Des Moines, 50313, POINT (-93.619906 41.643664), 77, POLK, 1031100, American Vodkas, 301, FIFTH GENERATION INC, 38176, Titos Handmade Vodka, 12, 750, 9.64, 14.46, 6, 86.76, 4.5, 1.18\n",
      "INV-20566700011, 2019-07-12, 4392, KUM & GO #156 / Clive, 15600 Hickman Rd, Clive, 50325, POINT (-93.834209 41.614732), 77, POLK, 1062200, White Rum, 035, BACARDI USA INC, 43126, Bacardi Superior, 12, 750, 8.26, 12.39, 2, 24.78, 1.5, 0.39\n",
      "INV-20718400009, 2019-07-19, 4622, Quik Trip #544 / SE 14th DM, 3941, SE 14th St, Des Moines, 50320, POINT (-93.596748 41.548497), 77, POLK, 1062200, White Rum, 035, BACARDI USA INC, 43124, Bacardi Superior, 24, 375, 4.5, 6.75, 3, 20.25, 1.12, 0.29\n"
     ]
    }
   ],
   "source": [
    "import duckdb as db\n",
    "from deltalake import DeltaTable\n",
    "from dotenv import load_dotenv\n",
    "import os\n",
    "\n",
    "# Carrega as variáveis de ambiente\n",
    "load_dotenv()\n",
    "\n",
    "# Configurações do S3\n",
    "delta_path = os.getenv(\"DELTA_LAKE_S3_PATH\")\n",
    "key = os.getenv(\"AWS_ACCESS_KEY_ID\")\n",
    "secret = os.getenv(\"AWS_SECRET_ACCESS_KEY\")\n",
    "region = os.getenv(\"AWS_REGION\")\n",
    "\n",
    "# Função para ler a tabela Delta Lake do S3\n",
    "def read_remote_delta_lake(path: str, key, secret):\n",
    "    storage_options = {\n",
    "        \"AWS_ACCESS_KEY_ID\": key,\n",
    "        \"AWS_SECRET_ACCESS_KEY\": secret,\n",
    "        \"AWS_REGION\": region\n",
    "    }\n",
    "    dt = DeltaTable(path, storage_options=storage_options)\n",
    "    return dt.to_pyarrow_table()\n",
    "\n",
    "# Carregar a tabela Delta Lake do S3\n",
    "dt = read_remote_delta_lake(delta_path, key, secret)\n",
    "\n",
    "# Conectar ao DuckDB\n",
    "con = db.connect()\n",
    "con.register(\"dt\", dt)\n",
    "\n",
    "# Função para executar consultas SQL e imprimir os resultados\n",
    "def execute_query(query):\n",
    "    result = con.execute(query).fetchall()\n",
    "    for row in result:\n",
    "        print(', '.join(map(str, row)))\n",
    "\n",
    "# Exemplo de uso:\n",
    "execute_query(\"SELECT * FROM dt LIMIT 5;\")\n"
   ]
  }
 ],
 "metadata": {
  "kernelspec": {
   "display_name": "Python 3 (ipykernel)",
   "language": "python",
   "name": "python3"
  },
  "language_info": {
   "codemirror_mode": {
    "name": "ipython",
    "version": 3
   },
   "file_extension": ".py",
   "mimetype": "text/x-python",
   "name": "python",
   "nbconvert_exporter": "python",
   "pygments_lexer": "ipython3",
   "version": "3.11.5"
  }
 },
 "nbformat": 4,
 "nbformat_minor": 4
}
